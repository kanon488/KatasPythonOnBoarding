{
 "cells": [
  {
   "cell_type": "markdown",
   "metadata": {},
   "source": [
    "## Ejercicio 1: Creación de un bucle \"while\""
   ]
  },
  {
   "cell_type": "code",
   "execution_count": null,
   "metadata": {},
   "outputs": [],
   "source": [
    "planets = []\n",
    "new_planet = ''\n",
    "\n",
    "while new_planet.lower() != 'fin':\n",
    "    if new_planet:\n",
    "        planets.append(new_planet)\n",
    "    new_planet =  input('Ingrese otro planeta, de otra manera escriba la palabra \"fin\": \\n')\n",
    "\n",
    "print(planets)\n"
   ]
  },
  {
   "cell_type": "markdown",
   "metadata": {},
   "source": [
    "## Ejercicio 2: Creación de un ciclo \"for\""
   ]
  },
  {
   "cell_type": "code",
   "execution_count": null,
   "metadata": {},
   "outputs": [],
   "source": [
    "planets = []\n",
    "new_planet = ''\n",
    "\n",
    "while new_planet.lower() != 'fin':\n",
    "    if new_planet:\n",
    "        planets.append(new_planet)\n",
    "    new_planet =  input('Ingrese otro planeta, de otra manera escriba la palabra \"fin\": \\n')\n",
    "\n",
    "for planet in planets:\n",
    "    print(planet)\n"
   ]
  }
 ],
 "metadata": {
  "interpreter": {
   "hash": "71388950bcb40b9539b5be50aa9fb1413cef7a506cdfb2544dd7e312607ed8b7"
  },
  "kernelspec": {
   "display_name": "Python 3.10.2 64-bit",
   "language": "python",
   "name": "python3"
  },
  "language_info": {
   "codemirror_mode": {
    "name": "ipython",
    "version": 3
   },
   "file_extension": ".py",
   "mimetype": "text/x-python",
   "name": "python",
   "nbconvert_exporter": "python",
   "pygments_lexer": "ipython3",
   "version": "3.10.2"
  },
  "orig_nbformat": 4
 },
 "nbformat": 4,
 "nbformat_minor": 2
}
