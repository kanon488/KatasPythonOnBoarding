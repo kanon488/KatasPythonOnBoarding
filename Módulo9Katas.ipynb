{
 "cells": [
  {
   "cell_type": "markdown",
   "metadata": {},
   "source": [
    "## Ejercicio: Uso de funciones en Python\n",
    "Ejercicio 1: Trabajar con argumentos en funciones"
   ]
  },
  {
   "cell_type": "code",
   "execution_count": 11,
   "metadata": {},
   "outputs": [
    {
     "data": {
      "text/plain": [
       "450.0"
      ]
     },
     "execution_count": 11,
     "metadata": {},
     "output_type": "execute_result"
    }
   ],
   "source": [
    "def calcula_promedio(totalCombustible):\n",
    "    return totalCombustible/3\n",
    "def total_combustible(combustible1,combustible2,combustible3):\n",
    "    total_combustible = combustible1+combustible2+combustible3\n",
    "    return calcula_promedio(total_combustible)\n",
    "\n",
    "\n",
    "total_combustible(100,450,800)"
   ]
  },
  {
   "cell_type": "markdown",
   "metadata": {},
   "source": [
    "## Ejercicio 2: Trabajo con argumentos de palabra clave\n",
    "Ejercicio : Trabajar con argumentos de palabras clave en funciones"
   ]
  },
  {
   "cell_type": "code",
   "execution_count": 28,
   "metadata": {},
   "outputs": [
    {
     "name": "stdout",
     "output_type": "stream",
     "text": [
      " \n",
      "    El destino es: Luna\n",
      "    Tiempo del viaje: 80\n",
      "    Total Combustible: 5000\n",
      "    tanque1 tank --> 2000 gallons left\n",
      "tanque2 tank --> 3000 gallons left\n",
      "\n"
     ]
    }
   ],
   "source": [
    "# def informe_lanzamiento(prelanzamiento,tiempoVuelo,destino,tanqueExterno,tanqueInterno):\n",
    "#     return f\"\"\" \n",
    "#     El destino es: {destino}\n",
    "#     Tiempo del viaje: { prelanzamiento + tiempoVuelo}\n",
    "#     Total Combustible: { tanqueExterno + tanqueInterno}\n",
    "#     \"\"\"\n",
    "\n",
    "# print(informe_lanzamiento(14,51,\"Luna\",2000,3000))\n",
    "\n",
    "\n",
    "def informe_lanzamiento(destino, *tiempoDeVuelo,**combustibles):\n",
    "    valorCombustible = combustibles.values()\n",
    "   \n",
    "    reporte = f\"\"\" \n",
    "    El destino es: {destino}\n",
    "    Tiempo del viaje: { sum(tiempoDeVuelo)}\n",
    "    Total Combustible: { sum(valorCombustible)}\n",
    "    \"\"\"\n",
    "   \n",
    "    for tank_name, gallons in combustibles.items():\n",
    "        reporte += f\"{tank_name} tank --> {gallons} gallons left\\n\"\n",
    "   \n",
    "    return reporte\n",
    "\n",
    "\n",
    "print(informe_lanzamiento(\"Luna\",15,20,45, tanque1=2000, tanque2 = 3000))\n",
    "    "
   ]
  }
 ],
 "metadata": {
  "interpreter": {
   "hash": "71388950bcb40b9539b5be50aa9fb1413cef7a506cdfb2544dd7e312607ed8b7"
  },
  "kernelspec": {
   "display_name": "Python 3.10.2 64-bit",
   "language": "python",
   "name": "python3"
  },
  "language_info": {
   "codemirror_mode": {
    "name": "ipython",
    "version": 3
   },
   "file_extension": ".py",
   "mimetype": "text/x-python",
   "name": "python",
   "nbconvert_exporter": "python",
   "pygments_lexer": "ipython3",
   "version": "3.10.2"
  },
  "orig_nbformat": 4
 },
 "nbformat": 4,
 "nbformat_minor": 2
}
