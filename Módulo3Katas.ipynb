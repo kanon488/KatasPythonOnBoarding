{
 "cells": [
  {
   "cell_type": "code",
   "execution_count": null,
   "metadata": {},
   "outputs": [],
   "source": []
  },
  {
   "cell_type": "markdown",
   "metadata": {},
   "source": [
    "## Ejercicio - Escribir declaraciones if, else, y elif"
   ]
  },
  {
   "cell_type": "markdown",
   "metadata": {},
   "source": [
    " Añadir el código necesario para crear una variable que guarde la velocidad del asteroide.\n",
    " Escribe una expresión de prueba para calcular si necesita una advertencia.\n",
    " Agregue las instrucciones que se ejecutarán si la expresión de prueba es true o false."
   ]
  },
  {
   "cell_type": "code",
   "execution_count": 1,
   "metadata": {},
   "outputs": [
    {
     "name": "stdout",
     "output_type": "stream",
     "text": [
      "Ingrese la velocidad del asteriode...\n",
      "Cuidado el asteroide pasara muy cerca de la Tierra!!!!\n"
     ]
    }
   ],
   "source": [
    "limiteVelocidad = 25\n",
    "print(\"Ingrese la velocidad del asteriode...\")\n",
    "velocidadIngresada = 49\n",
    "\n",
    "if velocidadIngresada > limiteVelocidad:\n",
    "    print(\"Cuidado el asteroide pasara muy cerca de la Tierra!!!!\")\n",
    "else:\n",
    "    print(\"Mantengan la calma, el asterode no representa ningún peligro.\")"
   ]
  },
  {
   "cell_type": "markdown",
   "metadata": {},
   "source": [
    "## Problema No.2\n",
    "Añadir el código necesario para crear una variable que guarde la velocidad del asteroide.\n",
    "Escribe una expresión de prueba para calcular si necesita una advertencia.\n",
    "Agregue las instrucciones que se ejecutarán si la expresión de prueba es true o false."
   ]
  },
  {
   "cell_type": "code",
   "execution_count": null,
   "metadata": {},
   "outputs": [],
   "source": [
    "velocidadAsteriode = 19\n",
    "velocidadMax = 20\n",
    "\n",
    "if velocidadAsteriode >= velocidadMax:\n",
    "    print(\"Alerta hay un asteriode acercandose, mire al cielo...!!\")\n",
    "elif velocidadAsteriode == velocidadMax:\n",
    "    print(\"Mire al cierlo, podrá ver el asteriode pasar...!!!\")\n",
    "else:\n",
    "    print(\"El asteriode pasará muy lejos y no será visible......\")"
   ]
  },
  {
   "cell_type": "markdown",
   "metadata": {},
   "source": [
    "## Ejercicio: Uso de operadores and y or"
   ]
  },
  {
   "cell_type": "markdown",
   "metadata": {},
   "source": [
    "Agrega el código para crear nuevas variables para la velocidad y el tamaño del asteroide\n",
    "Para probar el código, prueba con varias velocidades y tamaños\n",
    "Escribe varias expresiones de prueba o combinaciones de expresiones de prueba para determinar qué mensaje se debe enviar a Tierra."
   ]
  },
  {
   "cell_type": "code",
   "execution_count": 2,
   "metadata": {},
   "outputs": [
    {
     "name": "stdout",
     "output_type": "stream",
     "text": [
      "El asteriode no representa riesgo alguno, mire al cielo para poder apreciarlo.\n"
     ]
    }
   ],
   "source": [
    "dimensionSinRiesgo = 5\n",
    "limiteVelocidad = 19\n",
    "velocidadVisible = 20\n",
    "\n",
    "\n",
    "if limiteVelocidad > 25 or dimensionSinRiesgo > 25:\n",
    "    print(\"Peligro un asteroide se esta acercando a la Tierra!!! \")\n",
    "elif dimensionSinRiesgo < 25 and velocidadVisible >= 20:\n",
    "    print(\"El asteriode no representa riesgo alguno, mire al cielo para poder apreciarlo.\")\n",
    "elif dimensionSinRiesgo < 25:\n",
    "    print(\"El asteriode no representa peligro alguno.\")\n",
    "elif velocidadVisible >= 20:\n",
    "    print(\"Mire al cielo!!\") \n",
    "else:\n",
    "    print(\"El asteroide no representa peligro alguno, siga con su vida cotidiana.\")"
   ]
  }
 ],
 "metadata": {
  "interpreter": {
   "hash": "71388950bcb40b9539b5be50aa9fb1413cef7a506cdfb2544dd7e312607ed8b7"
  },
  "kernelspec": {
   "display_name": "Python 3.10.2 64-bit",
   "language": "python",
   "name": "python3"
  },
  "language_info": {
   "codemirror_mode": {
    "name": "ipython",
    "version": 3
   },
   "file_extension": ".py",
   "mimetype": "text/x-python",
   "name": "python",
   "nbconvert_exporter": "python",
   "pygments_lexer": "ipython3",
   "version": "3.10.2"
  },
  "orig_nbformat": 4
 },
 "nbformat": 4,
 "nbformat_minor": 2
}
