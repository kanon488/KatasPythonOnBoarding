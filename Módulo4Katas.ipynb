{
 "cells": [
  {
   "cell_type": "code",
   "execution_count": null,
   "metadata": {},
   "outputs": [],
   "source": []
  },
  {
   "cell_type": "markdown",
   "metadata": {},
   "source": [
    "## Ejercicio 1: Transformar cadenas"
   ]
  },
  {
   "cell_type": "code",
   "execution_count": 1,
   "metadata": {},
   "outputs": [
    {
     "name": "stdout",
     "output_type": "stream",
     "text": [
      "['Interesting facts about the Moon', \" The Moon is Earth's only satellite\", ' There are several interesting facts about the Moon and how it affects life here on Earth', ' \\nOn average, the Moon moves 4cm away from the Earth every year', ' This yearly drift is not significant enough to cause immediate effects on Earth', ' The highest daylight temperature of the Moon is 127 C', '']\n",
      " \n",
      "On average, the Moon moves 4cm away from the Earth every year\n",
      " The highest daylight temperature of the Moon is 127 C\n",
      " The highest daylight temperature of the Moon is 127 Celsius\n"
     ]
    }
   ],
   "source": [
    "text = \"\"\"Interesting facts about the Moon. The Moon is Earth's only satellite. There are several interesting facts about the Moon and how it affects life here on Earth. \n",
    "On average, the Moon moves 4cm away from the Earth every year. This yearly drift is not significant enough to cause immediate effects on Earth. The highest daylight temperature of the Moon is 127 C.\"\"\"\n",
    "\n",
    "lines = text.split('.')\n",
    "print(lines)\n",
    "busquedas = [\"average\",\"temperature\",\"distance\"]\n",
    "\n",
    "for line in lines:\n",
    "    for busqueda in busquedas:\n",
    "        if busqueda in line.lower():\n",
    "            print(line)\n",
    "            if line.endswith(\"C\"):\n",
    "                line = line.replace('C','Celsius')\n",
    "                print(line)"
   ]
  },
  {
   "cell_type": "markdown",
   "metadata": {},
   "source": [
    "## Ejercicio 2: Formateando Cadenas"
   ]
  },
  {
   "cell_type": "code",
   "execution_count": 2,
   "metadata": {},
   "outputs": [
    {
     "name": "stdout",
     "output_type": "stream",
     "text": [
      "Gravity Facts about Moon\n",
      "----------------------------------\n",
      "Planet Name: Earth  \n",
      "Gravity on Earth: 1.6199999999999999 m/s2\n",
      "Gravity Facts about Ganímedes \n",
      "-------------------------------------\n",
      "Planet Name: Marte \n",
      "Gravity on Marte : 1.4300000000000002 m/s2\n",
      "\n"
     ]
    }
   ],
   "source": [
    "name = \"Moon\"\n",
    "gravity = 0.00162 # in kms\n",
    "planet = \"Earth\"\n",
    "\n",
    "titulo = f\"\"\"Gravity Facts about {name}\\n\"\"\"\n",
    "separator = \"----------------------------------\\n\"\n",
    "informacion = f\"\"\"Planet Name: {planet}  \n",
    "Gravity on {planet}: {gravity*1000} m/s2\"\"\"\n",
    "\n",
    "print(titulo+separator+informacion)\n",
    "\n",
    "planeta = 'Marte '\n",
    "gravedad  = 0.00143\n",
    "nombre = 'Ganímedes'\n",
    "\n",
    "plantilla = \"\"\"Gravity Facts about {0} \n",
    "-------------------------------------\n",
    "Planet Name: {1}\n",
    "Gravity on {1}: {2} m/s2\n",
    "\"\"\"\n",
    "print(plantilla.format(nombre,planeta,gravedad*1000))"
   ]
  }
 ],
 "metadata": {
  "interpreter": {
   "hash": "71388950bcb40b9539b5be50aa9fb1413cef7a506cdfb2544dd7e312607ed8b7"
  },
  "kernelspec": {
   "display_name": "Python 3.10.2 64-bit",
   "language": "python",
   "name": "python3"
  },
  "language_info": {
   "codemirror_mode": {
    "name": "ipython",
    "version": 3
   },
   "file_extension": ".py",
   "mimetype": "text/x-python",
   "name": "python",
   "nbconvert_exporter": "python",
   "pygments_lexer": "ipython3",
   "version": "3.10.2"
  },
  "orig_nbformat": 4
 },
 "nbformat": 4,
 "nbformat_minor": 2
}
